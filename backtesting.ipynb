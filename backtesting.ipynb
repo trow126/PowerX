{
 "cells": [
  {
   "cell_type": "code",
   "execution_count": null,
   "metadata": {},
   "outputs": [],
   "source": [
    "import talib\n",
    "import pandas as pd\n",
    "from backtesting import Backtest, Strategy\n",
    "from backtesting.lib import crossover"
   ]
  },
  {
   "cell_type": "code",
   "execution_count": null,
   "metadata": {},
   "outputs": [],
   "source": [
    "class PowerXStrategy(Strategy):\n",
    "    stop_loss_multiple = 1.5\n",
    "    profit_target_multiple = 3.0\n",
    "\n",
    "    def init(self):\n",
    "        self.rsi = self.I(talib.RSI, self.data.Close, timeperiod=7)\n",
    "        self.stoch_k = self.I(talib.STOCH, self.data.High, self.data.Low, self.data.Close, fastk_period=14, slowk_period=3, slowk_matype=0, slowd_period=3, slowd_matype=0)[0]\n",
    "        self.macd_hist = self.I(talib.MACD, self.data.Close, fastperiod=12, slowperiod=26, signalperiod=9)[2]\n",
    "        self.adr = self.I(talib.SMA, self.data.High, timeperiod=7) - self.I(talib.SMA, self.data.Low, timeperiod=7)\n",
    "\n",
    "    def next(self):\n",
    "        green_bar = (self.rsi[-1] > 50) & (self.stoch_k[-1] > 50) & (self.macd_hist[-1] > 0)\n",
    "        red_bar = (self.rsi[-1] < 50) & (self.stoch_k[-1] < 50) & (self.macd_hist[-1] < 0)\n",
    "\n",
    "        # ロング注文のためのストップロスと利益目標の計算\n",
    "        long_profit_target = self.data.High[-1] + (self.profit_target_multiple * self.adr[-1])\n",
    "        long_stop_loss = long_profit_target - (self.stop_loss_multiple * self.adr[-1])\n",
    "\n",
    "        # ショート注文のためのストップロスと利益目標の計算\n",
    "        short_profit_target = self.data.Low[-1] - (self.profit_target_multiple * self.adr[-1])\n",
    "        short_stop_loss = short_profit_target + (self.stop_loss_multiple * self.adr[-1])\n",
    "\n",
    "        # 注文の実行\n",
    "        if green_bar and not self.position:\n",
    "            self.buy(sl=long_stop_loss, tp=long_profit_target)\n",
    "        elif red_bar and not self.position:\n",
    "            self.sell(sl=short_stop_loss, tp=short_profit_target)\n",
    "\n"
   ]
  },
  {
   "cell_type": "code",
   "execution_count": null,
   "metadata": {},
   "outputs": [],
   "source": [
    "# DataFrameがdfという変数に格納されているとします\n",
    "df = pd.read_pickle('./data/df_rates_3H.pkl')\n",
    "# 列名のリネーム\n",
    "df.rename(columns={\n",
    "    'time': 'Time',\n",
    "    'open': 'Open',\n",
    "    'high': 'High',\n",
    "    'low': 'Low',\n",
    "    'close': 'Close',\n",
    "    'tick_volume': 'TickVolume',\n",
    "    'spread': 'Spread',\n",
    "    'real_volume': 'RealVolume'\n",
    "}, inplace=True)\n",
    "df.info()"
   ]
  },
  {
   "cell_type": "code",
   "execution_count": null,
   "metadata": {},
   "outputs": [],
   "source": [
    "# バックテストの実行\n",
    "bt = Backtest(df, PowerXStrategy, cash=10000, commission=.002)\n",
    "stats = bt.run()\n",
    "print(stats)\n",
    "\n",
    "# 結果のプロット\n",
    "bt.plot()"
   ]
  }
 ],
 "metadata": {
  "kernelspec": {
   "display_name": "Python 3",
   "language": "python",
   "name": "python3"
  },
  "language_info": {
   "codemirror_mode": {
    "name": "ipython",
    "version": 3
   },
   "file_extension": ".py",
   "mimetype": "text/x-python",
   "name": "python",
   "nbconvert_exporter": "python",
   "pygments_lexer": "ipython3",
   "version": "3.12.4"
  }
 },
 "nbformat": 4,
 "nbformat_minor": 2
}
